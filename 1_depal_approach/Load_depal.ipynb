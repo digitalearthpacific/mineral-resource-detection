{
 "cells": [
  {
   "cell_type": "code",
   "execution_count": 7,
   "id": "4de0d4aa-30ec-48ab-a97c-1156b7f8e2f8",
   "metadata": {
    "tags": []
   },
   "outputs": [
    {
     "name": "stdout",
     "output_type": "stream",
     "text": [
      "Initiating DEPAL...\n",
      "<Client: 'tcp://127.0.0.1:35651' processes=4 threads=16, memory=64.00 GiB>\n",
      "/user/nicholasm@spc.int/proxy/38971/status\n"
     ]
    }
   ],
   "source": [
    "import depal as dep\n",
    "import warnings\n",
    "warnings.filterwarnings('ignore')\n",
    "dep.init()"
   ]
  },
  {
   "cell_type": "code",
   "execution_count": 8,
   "id": "b459fc19-1af3-48f0-ad23-16852f9c11ba",
   "metadata": {
    "tags": []
   },
   "outputs": [],
   "source": [
    "import os\n",
    "import sys\n",
    "sys.path.insert(0, '..')\n",
    "\n",
    "import pandas as pd\n",
    "import geopandas as gpd\n",
    "import numpy as np\n",
    "import rioxarray\n",
    "import xarray as xr\n",
    "from ipyleaflet import Map, LayersControl, basemaps\n",
    "\n",
    "from model import add_image_values, get_model_prediction, get_overlay\n",
    "\n",
    "import warnings\n",
    "warnings.filterwarnings('ignore')"
   ]
  },
  {
   "cell_type": "code",
   "execution_count": 9,
   "id": "2f68aea5-cb87-43e1-9aa9-8af559e35ea8",
   "metadata": {
    "tags": []
   },
   "outputs": [
    {
     "name": "stdout",
     "output_type": "stream",
     "text": [
      "https://dep-staging.westeurope.cloudapp.azure.com/compute/services/dask-gateway/clusters/staging.40c82de390c14f45b2ee8bb70c150166/status\n"
     ]
    }
   ],
   "source": [
    "import dask_gateway\n",
    "\n",
    "cluster = dask_gateway.GatewayCluster()\n",
    "client = cluster.get_client()\n",
    "cluster.scale(4)\n",
    "print(cluster.dashboard_link)\n",
    "cluster.adapt(minimum=2, maximum=100)\n"
   ]
  },
  {
   "cell_type": "code",
   "execution_count": 10,
   "id": "cbfc08e8-a65f-408c-85fc-d6a839291388",
   "metadata": {
    "tags": []
   },
   "outputs": [],
   "source": [
    "# import dask_gateway\n",
    "\n",
    "# cluster = dask_gateway.GatewayCluster()\n",
    "# client = cluster.get_client()\n",
    "# cluster.adapt(minimum=2, maximum=50)\n"
   ]
  },
  {
   "cell_type": "code",
   "execution_count": 11,
   "id": "5141f06f-2cb1-4f67-a7ae-373451e4c571",
   "metadata": {
    "tags": []
   },
   "outputs": [],
   "source": [
    "aoi = dep.get_area_from_geojson(\"aoi_fiji_2.geojson\")"
   ]
  },
  {
   "cell_type": "code",
   "execution_count": null,
   "id": "a474c1c6-8bad-41fc-8f7a-ea378d13cfd1",
   "metadata": {
    "tags": []
   },
   "outputs": [],
   "source": []
  },
  {
   "cell_type": "code",
   "execution_count": null,
   "id": "ce6d3b09-742e-45f7-9909-8aece9638b39",
   "metadata": {
    "tags": []
   },
   "outputs": [],
   "source": [
    "mosaic_2022 = get_cloudless_mosaic(aoi, collection_name='sentinel-2-l2a', timeframe='2022-11-01/2022-12-31', cloudcover=10, resolution=100, max=100, period='yearly', coastal_clip=False)"
   ]
  },
  {
   "cell_type": "code",
   "execution_count": null,
   "id": "7a643dec-eaa3-420c-8f66-01491934481a",
   "metadata": {
    "tags": []
   },
   "outputs": [],
   "source": [
    "dep.visualise(mosaic_2022, cmap=None)"
   ]
  },
  {
   "cell_type": "code",
   "execution_count": null,
   "id": "7dc4a559-5632-4459-a3bb-cc11839c46bf",
   "metadata": {
    "tags": []
   },
   "outputs": [],
   "source": [
    "mosaic_2022.rio.to_raster('Fiji_2022.tif', driver='COG', overwrite=True)"
   ]
  },
  {
   "cell_type": "code",
   "execution_count": null,
   "id": "208b5da3-6be1-47f7-b260-938a27a880dd",
   "metadata": {
    "tags": []
   },
   "outputs": [
    {
     "name": "stdout",
     "output_type": "stream",
     "text": [
      "['12/19/2022 22:19:39', '12/19/2022 22:19:39', '12/19/2022 22:19:39', '12/19/2022 22:19:39', '12/19/2022 22:19:39', '12/19/2022 22:19:39', '12/19/2022 22:19:39', '12/17/2022 22:28:01', '12/17/2022 22:28:01', '12/17/2022 22:28:01', '12/17/2022 22:28:01', '12/17/2022 22:28:01', '12/14/2022 22:19:41', '12/14/2022 22:19:41', '12/14/2022 22:19:41', '12/14/2022 22:19:41', '12/14/2022 22:19:41', '12/04/2022 22:19:41', '11/29/2022 22:19:39', '11/29/2022 22:19:39', '11/29/2022 22:19:39', '11/29/2022 22:19:39', '11/27/2022 22:28:01', '11/24/2022 22:19:41', '11/24/2022 22:19:41', '11/22/2022 22:27:59', '11/22/2022 22:27:59', '11/22/2022 22:27:59', '11/22/2022 22:27:59', '11/22/2022 22:27:59', '11/22/2022 22:27:59', '11/22/2022 22:27:59', '11/19/2022 22:19:39', '11/17/2022 22:28:01', '11/17/2022 22:28:01', '11/17/2022 22:28:01', '11/17/2022 22:28:01', '11/14/2022 22:19:41', '11/14/2022 22:19:41', '11/14/2022 22:19:41', '11/14/2022 22:19:41', '11/14/2022 22:19:41', '11/14/2022 22:19:41', '11/04/2022 22:19:41', '11/04/2022 22:19:41', '11/02/2022 22:27:59', '11/02/2022 22:27:59', '11/02/2022 22:27:59', '11/02/2022 22:27:59', '11/02/2022 22:27:59', '10/28/2022 22:28:01', '10/28/2022 22:28:01', '10/28/2022 22:28:01', '10/28/2022 22:28:01', '10/28/2022 22:28:01', '10/28/2022 22:28:01', '10/20/2022 22:19:39', '10/18/2022 22:28:01', '10/18/2022 22:28:01', '10/18/2022 22:28:01', '10/15/2022 22:19:41', '10/10/2022 22:19:39', '10/05/2022 22:19:51', '09/30/2022 22:19:39', '09/30/2022 22:19:39', '09/30/2022 22:19:39', '09/30/2022 22:19:39', '09/30/2022 22:19:39', '09/30/2022 22:19:39', '09/30/2022 22:19:39', '09/30/2022 22:19:39', '09/30/2022 22:19:39', '09/28/2022 22:28:01', '09/28/2022 22:28:01', '09/28/2022 22:28:01', '09/28/2022 22:28:01', '09/28/2022 22:28:01', '09/28/2022 22:28:01', '09/28/2022 22:28:01', '09/25/2022 22:19:51', '09/20/2022 22:19:39', '09/20/2022 22:19:39', '09/18/2022 22:28:11', '09/18/2022 22:28:11', '09/18/2022 22:28:11', '09/13/2022 22:27:59', '09/13/2022 22:27:59', '09/13/2022 22:27:59', '09/13/2022 22:27:59', '09/13/2022 22:27:59', '09/13/2022 22:27:59', '09/10/2022 22:19:39', '09/10/2022 22:19:39', '09/10/2022 22:19:39', '09/10/2022 22:19:39', '09/08/2022 22:28:11', '09/08/2022 22:28:11', '09/08/2022 22:28:11', '09/08/2022 22:28:11', '09/08/2022 22:28:11', '09/08/2022 22:28:11', '09/05/2022 22:19:51', '09/05/2022 22:19:51', '09/05/2022 22:19:51', '09/05/2022 22:19:51', '09/05/2022 22:19:51', '09/05/2022 22:19:51', '09/03/2022 22:27:59', '09/03/2022 22:27:59', '09/03/2022 22:27:59', '09/03/2022 22:27:59', '09/03/2022 22:27:59', '08/29/2022 22:28:11', '08/29/2022 22:28:11', '08/29/2022 22:28:11', '08/29/2022 22:28:11', '08/29/2022 22:28:11', '08/24/2022 22:27:59', '08/24/2022 22:27:59', '08/24/2022 22:27:59', '08/24/2022 22:27:59', '08/24/2022 22:27:59', '08/24/2022 22:27:59', '08/24/2022 22:27:59', '08/21/2022 22:19:39', '08/21/2022 22:19:39', '08/21/2022 22:19:39', '08/21/2022 22:19:39', '08/21/2022 22:19:39', '08/21/2022 22:19:39', '08/21/2022 22:19:39', '08/14/2022 22:27:59', '08/14/2022 22:27:59', '08/14/2022 22:27:59', '08/14/2022 22:27:59', '08/11/2022 22:19:39', '08/09/2022 22:28:11', '08/09/2022 22:28:11', '08/09/2022 22:28:11', '08/09/2022 22:28:11', '08/09/2022 22:28:11', '08/09/2022 22:28:11', '08/06/2022 22:19:51', '08/06/2022 22:19:51', '08/06/2022 22:19:51', '08/06/2022 22:19:51', '08/06/2022 22:19:51', '08/04/2022 22:27:59', '08/04/2022 22:27:59', '08/04/2022 22:27:59', '07/27/2022 22:19:51', '07/27/2022 22:19:51', '07/27/2022 22:19:51', '07/27/2022 22:19:51', '07/27/2022 22:19:51', '07/25/2022 22:27:59', '07/25/2022 22:27:59', '07/25/2022 22:27:59', '07/22/2022 22:19:49', '07/20/2022 22:28:11', '07/20/2022 22:28:11', '07/20/2022 22:28:11', '07/20/2022 22:28:11', '07/20/2022 22:28:11', '07/20/2022 22:28:11', '07/20/2022 22:28:11', '07/20/2022 22:28:11', '07/17/2022 22:19:51', '07/17/2022 22:19:51', '07/17/2022 22:19:51', '07/17/2022 22:19:51', '07/17/2022 22:19:51', '07/17/2022 22:19:51', '07/15/2022 22:27:59', '07/15/2022 22:27:59', '07/15/2022 22:27:59', '07/15/2022 22:27:59', '07/15/2022 22:27:59', '07/15/2022 22:27:59', '07/15/2022 22:27:59', '07/15/2022 22:27:59', '07/15/2022 22:27:59', '07/15/2022 22:27:59', '07/12/2022 22:19:49', '07/10/2022 22:28:11', '07/10/2022 22:28:11', '07/10/2022 22:28:11', '07/10/2022 22:28:11', '07/05/2022 22:27:59', '07/05/2022 22:27:59', '07/05/2022 22:27:59', '07/02/2022 22:19:49', '06/30/2022 22:28:11', '06/30/2022 22:28:11', '06/30/2022 22:28:11', '06/30/2022 22:28:11', '06/30/2022 22:28:11', '06/30/2022 22:28:11', '06/30/2022 22:28:11', '06/27/2022 22:19:51', '06/27/2022 22:19:51', '06/27/2022 22:19:51', '06/25/2022 22:27:59', '06/25/2022 22:27:59', '06/25/2022 22:27:59', '06/22/2022 22:19:49', '06/22/2022 22:19:49', '06/20/2022 22:30:21', '06/20/2022 22:30:21', '06/20/2022 22:30:21', '06/20/2022 22:30:21', '06/15/2022 22:27:59', '06/12/2022 22:19:39', '06/12/2022 22:19:39', '06/12/2022 22:19:39', '06/12/2022 22:19:39', '06/12/2022 22:19:39', '06/10/2022 22:30:21', '06/07/2022 22:19:51', '06/07/2022 22:19:51', '06/07/2022 22:19:51', '06/05/2022 22:30:09', '06/05/2022 22:30:09', '06/05/2022 22:30:09', '06/05/2022 22:30:09', '06/05/2022 22:30:09', '06/05/2022 22:30:09', '06/05/2022 22:30:09', '06/05/2022 22:30:09', '06/02/2022 22:19:39', '06/02/2022 22:19:39', '06/02/2022 22:19:39', '05/31/2022 22:30:21', '05/31/2022 22:30:21', '05/31/2022 22:30:21', '05/31/2022 22:30:21', '05/31/2022 22:30:21', '05/31/2022 22:30:21', '05/31/2022 22:30:21', '05/31/2022 22:30:21', '05/31/2022 22:30:21', '05/31/2022 22:30:21', '05/31/2022 22:30:21', '05/26/2022 22:30:09', '05/26/2022 22:30:09', '05/21/2022 22:30:21', '05/11/2022 22:30:11', '05/08/2022 22:19:41', '05/08/2022 22:19:41', '05/08/2022 22:19:41', '05/08/2022 22:19:41', '05/08/2022 22:19:41', '05/06/2022 22:30:09', '05/06/2022 22:30:09', '05/06/2022 22:30:09', '05/03/2022 22:19:39', '05/01/2022 22:30:11', '04/21/2022 22:30:11', '04/21/2022 22:30:11', '04/21/2022 22:30:11', '04/21/2022 22:30:11', '04/21/2022 22:30:11', '04/21/2022 22:30:11', '04/13/2022 22:19:39', '04/13/2022 22:19:39', '04/13/2022 22:19:39', '04/13/2022 22:19:39', '04/13/2022 22:19:39', '04/13/2022 22:19:39', '04/13/2022 22:19:39', '04/13/2022 22:19:39', '04/13/2022 22:19:39', '04/13/2022 22:19:39', '04/13/2022 22:19:39', '04/11/2022 22:30:11', '04/11/2022 22:30:11', '04/11/2022 22:30:11', '04/11/2022 22:30:11', '04/11/2022 22:30:11', '04/11/2022 22:30:11', '04/11/2022 22:30:11', '04/11/2022 22:30:11', '04/11/2022 22:30:11', '04/11/2022 22:30:11', '04/11/2022 22:30:11', '04/11/2022 22:30:11', '04/08/2022 22:19:41', '04/03/2022 22:19:39', '04/03/2022 22:19:39', '04/03/2022 22:19:39', '04/03/2022 22:19:39', '04/03/2022 22:19:39', '04/03/2022 22:19:39', '04/03/2022 22:19:39', '04/03/2022 22:19:39', '04/03/2022 22:19:39', '03/14/2022 22:19:39', '03/14/2022 22:19:39', '03/14/2022 22:19:39', '03/12/2022 22:30:11', '03/09/2022 22:19:41', '03/09/2022 22:19:41', '03/07/2022 22:30:09', '03/07/2022 22:30:09', '03/07/2022 22:30:09', '03/07/2022 22:30:09', '02/22/2022 22:19:39', '02/22/2022 22:19:39', '02/22/2022 22:19:39', '02/22/2022 22:19:39', '02/20/2022 22:30:11', '02/15/2022 22:30:09', '02/15/2022 22:30:09', '02/15/2022 22:30:09', '02/15/2022 22:30:09', '02/12/2022 22:19:39', '02/12/2022 22:19:39', '02/12/2022 22:19:39', '02/12/2022 22:19:39', '02/10/2022 22:30:11', '02/10/2022 22:30:11', '02/10/2022 22:30:11', '01/13/2022 22:19:39', '01/13/2022 22:19:39', '01/13/2022 22:19:39', '01/11/2022 22:30:11', '01/11/2022 22:30:11']\n",
      "Images Found    : 327\n",
      "Analysis Period : yearly\n"
     ]
    },
    {
     "name": "stderr",
     "output_type": "stream",
     "text": [
      "2023-12-28 07:12:55,463 - distributed.client - ERROR - Failed to reconnect to scheduler after 30.00 seconds, closing client\n",
      "2023-12-28 07:16:34,645 - distributed.client - ERROR - Failed to reconnect to scheduler after 30.00 seconds, closing client\n"
     ]
    }
   ],
   "source": [
    "# training_image_2022 = dep.get_landcover_mosaic(aoi, year=\"2022\", resolution=10, coastal_clip=False)"
   ]
  },
  {
   "cell_type": "code",
   "execution_count": null,
   "id": "45aa9279-7066-41ef-b786-4c41fc4b5f24",
   "metadata": {
    "tags": []
   },
   "outputs": [],
   "source": [
    "# s2_mosaic_2022 = dep.get_landcover_mosaic(aoi, 2022, bands=['B02', 'B03', 'B04', 'B05', 'B06', 'B07', 'B08', 'B8A'], resolution=10, max=10000, cloudcover=10, collection_name='sentinel-2-l2a', coastal_clip=False)"
   ]
  },
  {
   "cell_type": "code",
   "execution_count": null,
   "id": "d8fefaf7-8f4f-41ee-b171-577c10a5c5fa",
   "metadata": {
    "tags": []
   },
   "outputs": [],
   "source": [
    "# training_image_2022 = dep.get_landcover_mosaic(aoi, year=\"2022\", resolution=10, coastal_clip=False)"
   ]
  },
  {
   "cell_type": "code",
   "execution_count": null,
   "id": "f5e0cc9d-a6c5-487c-af38-7a457202255b",
   "metadata": {
    "tags": []
   },
   "outputs": [
    {
     "name": "stderr",
     "output_type": "stream",
     "text": [
      "Process Dask Worker process (from Nanny):\n",
      "2023-12-28 01:47:55,972 - distributed.nanny - ERROR - Worker process died unexpectedly\n",
      "2023-12-28 01:47:55,972 - distributed.nanny - ERROR - Worker process died unexpectedly\n",
      "Process Dask Worker process (from Nanny):\n",
      "Process Dask Worker process (from Nanny):\n",
      "2023-12-28 01:47:55,973 - distributed.nanny - ERROR - Worker process died unexpectedly\n",
      "Process Dask Worker process (from Nanny):\n",
      "Traceback (most recent call last):\n",
      "  File \"/srv/conda/envs/notebook/lib/python3.11/asyncio/runners.py\", line 118, in run\n",
      "    return self._loop.run_until_complete(task)\n",
      "           ^^^^^^^^^^^^^^^^^^^^^^^^^^^^^^^^^^^\n",
      "  File \"/srv/conda/envs/notebook/lib/python3.11/asyncio/base_events.py\", line 653, in run_until_complete\n",
      "    return future.result()\n",
      "           ^^^^^^^^^^^^^^^\n",
      "  File \"/srv/conda/envs/notebook/lib/python3.11/site-packages/distributed/nanny.py\", line 955, in run\n",
      "    await worker.finished()\n",
      "  File \"/srv/conda/envs/notebook/lib/python3.11/site-packages/distributed/core.py\", line 590, in finished\n",
      "    await self._event_finished.wait()\n",
      "  File \"/srv/conda/envs/notebook/lib/python3.11/asyncio/locks.py\", line 213, in wait\n",
      "    await fut\n",
      "asyncio.exceptions.CancelledError\n",
      "\n",
      "During handling of the above exception, another exception occurred:\n",
      "\n",
      "Traceback (most recent call last):\n",
      "  File \"/srv/conda/envs/notebook/lib/python3.11/multiprocessing/process.py\", line 314, in _bootstrap\n",
      "    self.run()\n",
      "  File \"/srv/conda/envs/notebook/lib/python3.11/multiprocessing/process.py\", line 108, in run\n",
      "    self._target(*self._args, **self._kwargs)\n",
      "  File \"/srv/conda/envs/notebook/lib/python3.11/site-packages/distributed/process.py\", line 202, in _run\n",
      "    target(*args, **kwargs)\n",
      "  File \"/srv/conda/envs/notebook/lib/python3.11/site-packages/distributed/nanny.py\", line 999, in _run\n",
      "    asyncio.run(run())\n",
      "  File \"/srv/conda/envs/notebook/lib/python3.11/asyncio/runners.py\", line 190, in run\n",
      "    return runner.run(main)\n",
      "           ^^^^^^^^^^^^^^^^\n",
      "  File \"/srv/conda/envs/notebook/lib/python3.11/asyncio/runners.py\", line 123, in run\n",
      "    raise KeyboardInterrupt()\n",
      "KeyboardInterrupt\n",
      "Traceback (most recent call last):\n",
      "Traceback (most recent call last):\n",
      "  File \"/srv/conda/envs/notebook/lib/python3.11/asyncio/runners.py\", line 118, in run\n",
      "    return self._loop.run_until_complete(task)\n",
      "           ^^^^^^^^^^^^^^^^^^^^^^^^^^^^^^^^^^^\n",
      "  File \"/srv/conda/envs/notebook/lib/python3.11/asyncio/runners.py\", line 118, in run\n",
      "    return self._loop.run_until_complete(task)\n",
      "           ^^^^^^^^^^^^^^^^^^^^^^^^^^^^^^^^^^^\n",
      "  File \"/srv/conda/envs/notebook/lib/python3.11/asyncio/base_events.py\", line 653, in run_until_complete\n",
      "    return future.result()\n",
      "           ^^^^^^^^^^^^^^^\n",
      "  File \"/srv/conda/envs/notebook/lib/python3.11/asyncio/base_events.py\", line 653, in run_until_complete\n",
      "    return future.result()\n",
      "           ^^^^^^^^^^^^^^^\n",
      "  File \"/srv/conda/envs/notebook/lib/python3.11/site-packages/distributed/nanny.py\", line 955, in run\n",
      "    await worker.finished()\n",
      "  File \"/srv/conda/envs/notebook/lib/python3.11/site-packages/distributed/nanny.py\", line 955, in run\n",
      "    await worker.finished()\n",
      "  File \"/srv/conda/envs/notebook/lib/python3.11/site-packages/distributed/core.py\", line 590, in finished\n",
      "    await self._event_finished.wait()\n",
      "  File \"/srv/conda/envs/notebook/lib/python3.11/site-packages/distributed/core.py\", line 590, in finished\n",
      "    await self._event_finished.wait()\n",
      "  File \"/srv/conda/envs/notebook/lib/python3.11/asyncio/locks.py\", line 213, in wait\n",
      "    await fut\n",
      "  File \"/srv/conda/envs/notebook/lib/python3.11/asyncio/locks.py\", line 213, in wait\n",
      "    await fut\n",
      "asyncio.exceptions.CancelledError\n",
      "asyncio.exceptions.CancelledError\n",
      "Traceback (most recent call last):\n",
      "\n",
      "During handling of the above exception, another exception occurred:\n",
      "\n",
      "\n",
      "During handling of the above exception, another exception occurred:\n",
      "\n",
      "Traceback (most recent call last):\n",
      "Traceback (most recent call last):\n",
      "  File \"/srv/conda/envs/notebook/lib/python3.11/asyncio/runners.py\", line 118, in run\n",
      "    return self._loop.run_until_complete(task)\n",
      "           ^^^^^^^^^^^^^^^^^^^^^^^^^^^^^^^^^^^\n",
      "  File \"/srv/conda/envs/notebook/lib/python3.11/asyncio/base_events.py\", line 653, in run_until_complete\n",
      "    return future.result()\n",
      "           ^^^^^^^^^^^^^^^\n",
      "  File \"/srv/conda/envs/notebook/lib/python3.11/site-packages/distributed/nanny.py\", line 955, in run\n",
      "    await worker.finished()\n",
      "  File \"/srv/conda/envs/notebook/lib/python3.11/site-packages/distributed/core.py\", line 590, in finished\n",
      "    await self._event_finished.wait()\n",
      "  File \"/srv/conda/envs/notebook/lib/python3.11/asyncio/locks.py\", line 213, in wait\n",
      "    await fut\n",
      "asyncio.exceptions.CancelledError\n",
      "\n",
      "During handling of the above exception, another exception occurred:\n",
      "\n",
      "Traceback (most recent call last):\n",
      "  File \"/srv/conda/envs/notebook/lib/python3.11/multiprocessing/process.py\", line 314, in _bootstrap\n",
      "    self.run()\n",
      "  File \"/srv/conda/envs/notebook/lib/python3.11/multiprocessing/process.py\", line 314, in _bootstrap\n",
      "    self.run()\n",
      "  File \"/srv/conda/envs/notebook/lib/python3.11/multiprocessing/process.py\", line 108, in run\n",
      "    self._target(*self._args, **self._kwargs)\n",
      "  File \"/srv/conda/envs/notebook/lib/python3.11/multiprocessing/process.py\", line 108, in run\n",
      "    self._target(*self._args, **self._kwargs)\n",
      "  File \"/srv/conda/envs/notebook/lib/python3.11/site-packages/distributed/process.py\", line 202, in _run\n",
      "    target(*args, **kwargs)\n",
      "  File \"/srv/conda/envs/notebook/lib/python3.11/site-packages/distributed/process.py\", line 202, in _run\n",
      "    target(*args, **kwargs)\n",
      "  File \"/srv/conda/envs/notebook/lib/python3.11/site-packages/distributed/nanny.py\", line 999, in _run\n",
      "    asyncio.run(run())\n",
      "  File \"/srv/conda/envs/notebook/lib/python3.11/site-packages/distributed/nanny.py\", line 999, in _run\n",
      "    asyncio.run(run())\n",
      "  File \"/srv/conda/envs/notebook/lib/python3.11/asyncio/runners.py\", line 190, in run\n",
      "    return runner.run(main)\n",
      "           ^^^^^^^^^^^^^^^^\n",
      "  File \"/srv/conda/envs/notebook/lib/python3.11/asyncio/runners.py\", line 190, in run\n",
      "    return runner.run(main)\n",
      "           ^^^^^^^^^^^^^^^^\n",
      "  File \"/srv/conda/envs/notebook/lib/python3.11/asyncio/runners.py\", line 123, in run\n",
      "    raise KeyboardInterrupt()\n",
      "  File \"/srv/conda/envs/notebook/lib/python3.11/asyncio/runners.py\", line 123, in run\n",
      "    raise KeyboardInterrupt()\n",
      "KeyboardInterrupt\n",
      "KeyboardInterrupt\n",
      "  File \"/srv/conda/envs/notebook/lib/python3.11/multiprocessing/process.py\", line 314, in _bootstrap\n",
      "    self.run()\n",
      "  File \"/srv/conda/envs/notebook/lib/python3.11/multiprocessing/process.py\", line 108, in run\n",
      "    self._target(*self._args, **self._kwargs)\n",
      "  File \"/srv/conda/envs/notebook/lib/python3.11/site-packages/distributed/process.py\", line 202, in _run\n",
      "    target(*args, **kwargs)\n",
      "  File \"/srv/conda/envs/notebook/lib/python3.11/site-packages/distributed/nanny.py\", line 999, in _run\n",
      "    asyncio.run(run())\n",
      "  File \"/srv/conda/envs/notebook/lib/python3.11/asyncio/runners.py\", line 190, in run\n",
      "    return runner.run(main)\n",
      "           ^^^^^^^^^^^^^^^^\n",
      "  File \"/srv/conda/envs/notebook/lib/python3.11/asyncio/runners.py\", line 123, in run\n",
      "    raise KeyboardInterrupt()\n",
      "KeyboardInterrupt\n"
     ]
    }
   ],
   "source": [
    "training_image_2022.rio.to_raster('Fiji_2022.tif', driver='COG', overwrite=True)"
   ]
  },
  {
   "cell_type": "code",
   "execution_count": null,
   "id": "1c036794-ac23-4a5a-8844-25555da1e590",
   "metadata": {},
   "outputs": [],
   "source": [
    "aoi.to_file(\"Fiji.tif\")"
   ]
  },
  {
   "cell_type": "code",
   "execution_count": null,
   "id": "9c1fd88e-0ff3-4876-8b1c-01bf17c08370",
   "metadata": {
    "tags": []
   },
   "outputs": [],
   "source": [
    "training_image_2022 = dep.get_landcover_mosaic(aoi, year=\"2022\", resolution=10, coastal_clip=False)"
   ]
  },
  {
   "cell_type": "code",
   "execution_count": null,
   "id": "f6f66482-9103-4e82-86b8-dd468be61754",
   "metadata": {
    "tags": []
   },
   "outputs": [],
   "source": [
    "training_image_2021 = dep.get_landcover_mosaic(aoi, year=\"2021\", resolution=10, coastal_clip=False)"
   ]
  },
  {
   "cell_type": "code",
   "execution_count": null,
   "id": "c225c31a-3eac-4ddb-a70f-db30d0086523",
   "metadata": {
    "tags": []
   },
   "outputs": [],
   "source": [
    "training_image_2020 = dep.get_landcover_mosaic(aoi, year=\"2020\", resolution=10, coastal_clip=False)"
   ]
  },
  {
   "cell_type": "code",
   "execution_count": null,
   "id": "bd8578ec-845b-48ee-8529-4b20bd71e64e",
   "metadata": {
    "tags": []
   },
   "outputs": [],
   "source": [
    "training_image_2019 = dep.get_landcover_mosaic(aoi, year=\"2019\", resolution=10, coastal_clip=False)"
   ]
  },
  {
   "cell_type": "code",
   "execution_count": null,
   "id": "02fcebbf-d4f9-42d7-a911-714519ac5a6d",
   "metadata": {
    "tags": []
   },
   "outputs": [],
   "source": [
    "training_image_2018 = dep.get_landcover_mosaic(aoi, year=\"2018\", resolution=10, coastal_clip=False)"
   ]
  },
  {
   "cell_type": "code",
   "execution_count": null,
   "id": "0e1c7ea3-f08b-482e-b7c1-4d8fa096080b",
   "metadata": {
    "tags": []
   },
   "outputs": [],
   "source": [
    "training_image_2017 = dep.get_landcover_mosaic(aoi, year=\"2017\", resolution=10, coastal_clip=False)"
   ]
  },
  {
   "cell_type": "code",
   "execution_count": null,
   "id": "f9cafdff-0dd2-4c2f-92b5-20a627c860be",
   "metadata": {},
   "outputs": [],
   "source": [
    "training_image_2016 = dep.get_landcover_mosaic(aoi, year=\"2016\", resolution=10, coastal_clip=False)"
   ]
  },
  {
   "cell_type": "code",
   "execution_count": null,
   "id": "ee477670-5b6a-4b0d-99e6-42b388596551",
   "metadata": {},
   "outputs": [],
   "source": []
  }
 ],
 "metadata": {
  "kernelspec": {
   "display_name": "Python 3 (ipykernel)",
   "language": "python",
   "name": "python3"
  },
  "language_info": {
   "codemirror_mode": {
    "name": "ipython",
    "version": 3
   },
   "file_extension": ".py",
   "mimetype": "text/x-python",
   "name": "python",
   "nbconvert_exporter": "python",
   "pygments_lexer": "ipython3",
   "version": "3.11.4"
  }
 },
 "nbformat": 4,
 "nbformat_minor": 5
}

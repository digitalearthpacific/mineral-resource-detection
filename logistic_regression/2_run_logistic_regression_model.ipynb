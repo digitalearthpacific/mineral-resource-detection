{
 "cells": [
  {
   "cell_type": "code",
   "execution_count": null,
   "id": "1b817932-533a-42e9-80ae-39997d139010",
   "metadata": {},
   "outputs": [],
   "source": [
    "import geopandas as gpd\n",
    "import joblib\n",
    "import numpy as np\n",
    "import odc.geo  # noqa\n",
    "from matplotlib import colors\n",
    "from shapely import geometry\n",
    "\n",
    "from utils import load_data, predict_xr"
   ]
  },
  {
   "cell_type": "code",
   "execution_count": null,
   "id": "25395eb9-2a32-43c8-89ad-24ddce52781d",
   "metadata": {
    "tags": []
   },
   "outputs": [],
   "source": [
    "%reload_ext autoreload\n",
    "%autoreload 2"
   ]
  },
  {
   "cell_type": "markdown",
   "id": "dacfa444-524f-4d99-a305-1069c4dd56f9",
   "metadata": {},
   "source": [
    "## Find and load S2 data\n",
    "\n",
    "Load data and set up your array to use for prediction"
   ]
  },
  {
   "cell_type": "code",
   "execution_count": null,
   "id": "c1661b94",
   "metadata": {},
   "outputs": [],
   "source": [
    "# Configure some things up front\n",
    "chunks = dict(x=2048, y=2048)\n",
    "datetime = \"2023\"\n",
    "\n",
    "bbox = [177.35, -17.85, 177.50, -17.70]\n",
    "bbox_geometry = geometry.box(*bbox)\n",
    "\n",
    "gdf = gpd.GeoDataFrame({'geometry': [bbox_geometry]}, crs='EPSG:4326')\n",
    "gdf.explore()"
   ]
  },
  {
   "cell_type": "code",
   "execution_count": null,
   "id": "29936636",
   "metadata": {},
   "outputs": [],
   "source": [
    "merged = load_data(bbox, datetime=datetime, chunks=chunks, resolution=10)\n",
    "merged"
   ]
  },
  {
   "cell_type": "code",
   "execution_count": null,
   "id": "af9762ab",
   "metadata": {},
   "outputs": [],
   "source": [
    "loaded_model = joblib.load(\"logistic_model.dump\")"
   ]
  },
  {
   "cell_type": "code",
   "execution_count": null,
   "id": "2f4a57c1",
   "metadata": {},
   "outputs": [],
   "source": [
    "loaded_data = merged.compute()"
   ]
  },
  {
   "cell_type": "markdown",
   "id": "92b942be-dbbe-44c2-8291-d55a5e6d8249",
   "metadata": {},
   "source": [
    "## Run ML classifier"
   ]
  },
  {
   "cell_type": "code",
   "execution_count": null,
   "id": "07c9cfa5-ff5a-4fc9-b56d-2cd8c8a6e553",
   "metadata": {
    "tags": []
   },
   "outputs": [],
   "source": [
    "# This runs the actual prediction\n",
    "predicted = predict_xr(loaded_model, loaded_data, proba=True)\n",
    "\n",
    "# Convert to int\n",
    "cleaned_predictions = predicted.copy(deep=True)\n",
    "cleaned_predictions.predictions.data = predicted.predictions.data.astype(np.int8)\n",
    "cleaned_predictions.probabilities.data = predicted.probabilities.data.astype(np.float32)\n",
    "\n",
    "cleaned_predictions = cleaned_predictions.rename({\"predictions\": \"pred\", \"probabilities\": \"prob\"})"
   ]
  },
  {
   "cell_type": "code",
   "execution_count": null,
   "id": "949ce84c-6a9a-4918-aaf2-8438b6e87feb",
   "metadata": {
    "tags": []
   },
   "outputs": [],
   "source": [
    "cleaned_predictions.prob.odc.explore(cmap=\"Reds\")"
   ]
  },
  {
   "cell_type": "code",
   "execution_count": null,
   "id": "c465bddd-5ca6-4ad9-b1c2-2e3171333f0b",
   "metadata": {
    "tags": []
   },
   "outputs": [],
   "source": [
    "cleaned_predictions.pred.odc.explore(cmap=\"Reds\")"
   ]
  },
  {
   "cell_type": "code",
   "execution_count": null,
   "id": "c3d25ca4-dc50-4b2f-8ddc-bfc1274393b0",
   "metadata": {
    "tags": []
   },
   "outputs": [],
   "source": [
    "# Write GeoTIFF\n",
    "cleaned_predictions.lulc.odc.write_cog(\"lulc_nadi_2023_3.tif\", overwrite=True)"
   ]
  }
 ],
 "metadata": {
  "kernelspec": {
   "display_name": "Python 3 (ipykernel)",
   "language": "python",
   "name": "python3"
  },
  "language_info": {
   "codemirror_mode": {
    "name": "ipython",
    "version": 3
   },
   "file_extension": ".py",
   "mimetype": "text/x-python",
   "name": "python",
   "nbconvert_exporter": "python",
   "pygments_lexer": "ipython3",
   "version": "3.11.6"
  }
 },
 "nbformat": 4,
 "nbformat_minor": 5
}
